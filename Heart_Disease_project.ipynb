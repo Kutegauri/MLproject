{
 "cells": [
  {
   "cell_type": "markdown",
   "metadata": {},
   "source": [
    "### Import libraries"
   ]
  },
  {
   "cell_type": "code",
   "execution_count": 1,
   "metadata": {},
   "outputs": [],
   "source": [
    "# data analysis, splitting and wrangling\n",
    "import pandas as pd\n",
    "import numpy as np\n",
    "from sklearn.model_selection import train_test_split\n",
    "from sklearn.preprocessing import StandardScaler\n",
    "\n",
    "# visualization\n",
    "import matplotlib.pyplot as plt\n",
    "import seaborn as sns\n",
    "%matplotlib inline\n",
    "\n",
    "\n",
    "# machine learning\n",
    "from sklearn.linear_model import LogisticRegression\n",
    "from sklearn.svm import SVC\n",
    "from sklearn.tree import DecisionTreeClassifier\n",
    "from sklearn.ensemble import RandomForestClassifier\n",
    "from sklearn.neighbors import KNeighborsClassifier\n",
    "from sklearn.naive_bayes import GaussianNB"
   ]
  },
  {
   "cell_type": "markdown",
   "metadata": {},
   "source": [
    "### Load data"
   ]
  },
  {
   "cell_type": "code",
   "execution_count": 2,
   "metadata": {
    "scrolled": true
   },
   "outputs": [
    {
     "name": "stdout",
     "output_type": "stream",
     "text": [
      "Number of records: 303\n",
      "Number of variables: 14\n"
     ]
    },
    {
     "data": {
      "text/html": [
       "<div>\n",
       "<style scoped>\n",
       "    .dataframe tbody tr th:only-of-type {\n",
       "        vertical-align: middle;\n",
       "    }\n",
       "\n",
       "    .dataframe tbody tr th {\n",
       "        vertical-align: top;\n",
       "    }\n",
       "\n",
       "    .dataframe thead th {\n",
       "        text-align: right;\n",
       "    }\n",
       "</style>\n",
       "<table border=\"1\" class=\"dataframe\">\n",
       "  <thead>\n",
       "    <tr style=\"text-align: right;\">\n",
       "      <th></th>\n",
       "      <th>age</th>\n",
       "      <th>sex</th>\n",
       "      <th>chest_pain</th>\n",
       "      <th>blood_pressure</th>\n",
       "      <th>serum_cholestoral</th>\n",
       "      <th>fasting_blood_sugar</th>\n",
       "      <th>electrocardiographic</th>\n",
       "      <th>max_heart_rate</th>\n",
       "      <th>induced_angina</th>\n",
       "      <th>ST_depression</th>\n",
       "      <th>slope</th>\n",
       "      <th>no_of_vessels</th>\n",
       "      <th>thal</th>\n",
       "      <th>diagnosis</th>\n",
       "    </tr>\n",
       "  </thead>\n",
       "  <tbody>\n",
       "    <tr>\n",
       "      <th>0</th>\n",
       "      <td>63.0</td>\n",
       "      <td>1.0</td>\n",
       "      <td>1.0</td>\n",
       "      <td>145.0</td>\n",
       "      <td>233.0</td>\n",
       "      <td>1.0</td>\n",
       "      <td>2.0</td>\n",
       "      <td>150.0</td>\n",
       "      <td>0.0</td>\n",
       "      <td>2.3</td>\n",
       "      <td>3.0</td>\n",
       "      <td>0.0</td>\n",
       "      <td>6.0</td>\n",
       "      <td>0</td>\n",
       "    </tr>\n",
       "    <tr>\n",
       "      <th>1</th>\n",
       "      <td>67.0</td>\n",
       "      <td>1.0</td>\n",
       "      <td>4.0</td>\n",
       "      <td>160.0</td>\n",
       "      <td>286.0</td>\n",
       "      <td>0.0</td>\n",
       "      <td>2.0</td>\n",
       "      <td>108.0</td>\n",
       "      <td>1.0</td>\n",
       "      <td>1.5</td>\n",
       "      <td>2.0</td>\n",
       "      <td>3.0</td>\n",
       "      <td>3.0</td>\n",
       "      <td>2</td>\n",
       "    </tr>\n",
       "    <tr>\n",
       "      <th>2</th>\n",
       "      <td>67.0</td>\n",
       "      <td>1.0</td>\n",
       "      <td>4.0</td>\n",
       "      <td>120.0</td>\n",
       "      <td>229.0</td>\n",
       "      <td>0.0</td>\n",
       "      <td>2.0</td>\n",
       "      <td>129.0</td>\n",
       "      <td>1.0</td>\n",
       "      <td>2.6</td>\n",
       "      <td>2.0</td>\n",
       "      <td>2.0</td>\n",
       "      <td>7.0</td>\n",
       "      <td>1</td>\n",
       "    </tr>\n",
       "    <tr>\n",
       "      <th>3</th>\n",
       "      <td>37.0</td>\n",
       "      <td>1.0</td>\n",
       "      <td>3.0</td>\n",
       "      <td>130.0</td>\n",
       "      <td>250.0</td>\n",
       "      <td>0.0</td>\n",
       "      <td>0.0</td>\n",
       "      <td>187.0</td>\n",
       "      <td>0.0</td>\n",
       "      <td>3.5</td>\n",
       "      <td>3.0</td>\n",
       "      <td>0.0</td>\n",
       "      <td>3.0</td>\n",
       "      <td>0</td>\n",
       "    </tr>\n",
       "    <tr>\n",
       "      <th>4</th>\n",
       "      <td>41.0</td>\n",
       "      <td>0.0</td>\n",
       "      <td>2.0</td>\n",
       "      <td>130.0</td>\n",
       "      <td>204.0</td>\n",
       "      <td>0.0</td>\n",
       "      <td>2.0</td>\n",
       "      <td>172.0</td>\n",
       "      <td>0.0</td>\n",
       "      <td>1.4</td>\n",
       "      <td>1.0</td>\n",
       "      <td>0.0</td>\n",
       "      <td>3.0</td>\n",
       "      <td>0</td>\n",
       "    </tr>\n",
       "  </tbody>\n",
       "</table>\n",
       "</div>"
      ],
      "text/plain": [
       "    age  sex  chest_pain  blood_pressure  serum_cholestoral  \\\n",
       "0  63.0  1.0         1.0           145.0              233.0   \n",
       "1  67.0  1.0         4.0           160.0              286.0   \n",
       "2  67.0  1.0         4.0           120.0              229.0   \n",
       "3  37.0  1.0         3.0           130.0              250.0   \n",
       "4  41.0  0.0         2.0           130.0              204.0   \n",
       "\n",
       "   fasting_blood_sugar  electrocardiographic  max_heart_rate  induced_angina  \\\n",
       "0                  1.0                   2.0           150.0             0.0   \n",
       "1                  0.0                   2.0           108.0             1.0   \n",
       "2                  0.0                   2.0           129.0             1.0   \n",
       "3                  0.0                   0.0           187.0             0.0   \n",
       "4                  0.0                   2.0           172.0             0.0   \n",
       "\n",
       "   ST_depression  slope  no_of_vessels  thal  diagnosis  \n",
       "0            2.3    3.0            0.0   6.0          0  \n",
       "1            1.5    2.0            3.0   3.0          2  \n",
       "2            2.6    2.0            2.0   7.0          1  \n",
       "3            3.5    3.0            0.0   3.0          0  \n",
       "4            1.4    1.0            0.0   3.0          0  "
      ]
     },
     "execution_count": 2,
     "metadata": {},
     "output_type": "execute_result"
    }
   ],
   "source": [
    "# column names in accordance with feature information\n",
    "col_names = ['age','sex','chest_pain','blood_pressure','serum_cholestoral','fasting_blood_sugar', 'electrocardiographic',\n",
    "             'max_heart_rate','induced_angina','ST_depression','slope','no_of_vessels','thal','diagnosis']\n",
    "\n",
    "# read the file\n",
    "df = pd.read_csv(\"processed.cleveland.data\", names=col_names, header=None, na_values=\"?\")\n",
    "\n",
    "print(\"Number of records: {}\\nNumber of variables: {}\".format(df.shape[0], df.shape[1]))\n",
    "\n",
    "# display the first 5 lines\n",
    "df.head()"
   ]
  },
  {
   "cell_type": "code",
   "execution_count": 3,
   "metadata": {},
   "outputs": [
    {
     "name": "stdout",
     "output_type": "stream",
     "text": [
      "<class 'pandas.core.frame.DataFrame'>\n",
      "RangeIndex: 303 entries, 0 to 302\n",
      "Data columns (total 14 columns):\n",
      "age                     303 non-null float64\n",
      "sex                     303 non-null float64\n",
      "chest_pain              303 non-null float64\n",
      "blood_pressure          303 non-null float64\n",
      "serum_cholestoral       303 non-null float64\n",
      "fasting_blood_sugar     303 non-null float64\n",
      "electrocardiographic    303 non-null float64\n",
      "max_heart_rate          303 non-null float64\n",
      "induced_angina          303 non-null float64\n",
      "ST_depression           303 non-null float64\n",
      "slope                   303 non-null float64\n",
      "no_of_vessels           299 non-null float64\n",
      "thal                    301 non-null float64\n",
      "diagnosis               303 non-null int64\n",
      "dtypes: float64(13), int64(1)\n",
      "memory usage: 33.2 KB\n"
     ]
    }
   ],
   "source": [
    "df.info()"
   ]
  },
  {
   "cell_type": "code",
   "execution_count": 4,
   "metadata": {},
   "outputs": [
    {
     "name": "stdout",
     "output_type": "stream",
     "text": [
      "['sex', 'chest_pain', 'fasting_blood_sugar', 'electrocardiographic', 'induced_angina', 'slope', 'no_of_vessels', 'thal', 'diagnosis']\n"
     ]
    }
   ],
   "source": [
    "# extract numeric columns and find categorical ones\n",
    "numeric_columns = ['serum_cholestoral', 'max_heart_rate', 'age', 'blood_pressure', 'ST_depression']\n",
    "categorical_columns = [c for c in df.columns if c not in numeric_columns]\n",
    "print(categorical_columns)"
   ]
  },
  {
   "cell_type": "markdown",
   "metadata": {},
   "source": [
    "## 2.Analyze features, identify patterns, and explore the data\n",
    "\n",
    "### Target value\n",
    "\n",
    "Knowing the distribution of target value is vital for choosing appropriate accuracy metrics and consequently properly assess different machine learning models."
   ]
  },
  {
   "cell_type": "code",
   "execution_count": 6,
   "metadata": {
    "scrolled": true
   },
   "outputs": [
    {
     "data": {
      "text/plain": [
       "0    164\n",
       "1    139\n",
       "Name: diagnosis, dtype: int64"
      ]
     },
     "execution_count": 6,
     "metadata": {},
     "output_type": "execute_result"
    }
   ],
   "source": [
    "# create a boolean vector and map it with corresponding values (True=1, False=0)\n",
    "df.diagnosis = (df.diagnosis != 0).astype(int)\n",
    "df.diagnosis.value_counts()"
   ]
  },
  {
   "cell_type": "code",
   "execution_count": 7,
   "metadata": {},
   "outputs": [
    {
     "data": {
      "image/png": "[encoded data removed]",
      "text/plain": [
       "<Figure size 1008x432 with 2 Axes>"
      ]
     },
     "metadata": {
      "needs_background": "light"
     },
     "output_type": "display_data"
    }
   ],
   "source": [
    "# create two plots side by side\n",
    "f, ax = plt.subplots(1,2,figsize=(14,6))\n",
    "df['diagnosis'].value_counts().plot.pie(autopct='%1.1f%%', ax=ax[0], shadow=True)\n",
    "ax[0].set_title('diagnosis')\n",
    "ax[0].set_ylabel('')\n",
    "sns.countplot('diagnosis', data=df, ax=ax[1])\n",
    "plt.show()"
   ]
  },
  {
   "cell_type": "markdown",
   "metadata": {},
   "source": [
    "Now the distribution of target value is almost equal, so using standard metrics in further machine learning modelling like _accuracy_ and _AUC_ is justified. "
   ]
  },
  {
   "cell_type": "markdown",
   "metadata": {},
   "source": [
    "### Categorical features\n",
    "\n",
    "Let's take a closer look at categorical variables and see how they impact our target. "
   ]
  },
  {
   "cell_type": "code",
   "execution_count": 8,
   "metadata": {},
   "outputs": [
    {
     "data": {
      "text/plain": [
       "sex  diagnosis\n",
       "0.0  0             72\n",
       "     1             25\n",
       "1.0  0             92\n",
       "     1            114\n",
       "Name: diagnosis, dtype: int64"
      ]
     },
     "execution_count": 8,
     "metadata": {},
     "output_type": "execute_result"
    }
   ],
   "source": [
    "# count ill vs healthy people grouped by sex\n",
    "df.groupby(['sex','diagnosis'])['diagnosis'].count()"
   ]
  },
  {
   "cell_type": "markdown",
   "metadata": {},
   "source": [
    "## 3.Data Preparation\n",
    "\n",
    "In order to make our dataset compatible with machine learning algorithms contained in Sci-kit Learn library, first of all, we need to handle all missing data.\n",
    "\n",
    "There are many options we could consider when replacing a missing value, for example:\n",
    "- A constant value that has meaning within the domain, such as 0, distinct from all other values\n",
    "- A value from another randomly selected record\n",
    "- A mean, median or mode value for the column\n",
    "- A value estimated by another predictive model"
   ]
  },
  {
   "cell_type": "code",
   "execution_count": 9,
   "metadata": {},
   "outputs": [
    {
     "data": {
      "text/plain": [
       "age                     0\n",
       "sex                     0\n",
       "chest_pain              0\n",
       "blood_pressure          0\n",
       "serum_cholestoral       0\n",
       "fasting_blood_sugar     0\n",
       "electrocardiographic    0\n",
       "max_heart_rate          0\n",
       "induced_angina          0\n",
       "ST_depression           0\n",
       "slope                   0\n",
       "no_of_vessels           4\n",
       "thal                    2\n",
       "diagnosis               0\n",
       "dtype: int64"
      ]
     },
     "execution_count": 9,
     "metadata": {},
     "output_type": "execute_result"
    }
   ],
   "source": [
    "# show columns having missing values\n",
    "df.isnull().sum()"
   ]
  },
  {
   "cell_type": "markdown",
   "metadata": {},
   "source": [
    "Both columns containing missing values are categorical. In such case, mode (most frequently occurring value in a given vector) is usually used for filling 'nans'. Let's follow this solution."
   ]
  },
  {
   "cell_type": "code",
   "execution_count": 10,
   "metadata": {},
   "outputs": [],
   "source": [
    "# fill missing values with mode\n",
    "df['no_of_vessels'].fillna(df['no_of_vessels'].mode()[0], inplace=True)\n",
    "df['thal'].fillna(df['thal'].mode()[0], inplace=True)"
   ]
  },
  {
   "cell_type": "markdown",
   "metadata": {},
   "source": [
    "Having clean data, a label can be separated from the data frame. It is also a good moment to split our data train and test sets. I will allocate 30% of the entire data to test set, which is typically considered as a standard split for this size of dataset."
   ]
  },
  {
   "cell_type": "code",
   "execution_count": 11,
   "metadata": {},
   "outputs": [
    {
     "name": "stdout",
     "output_type": "stream",
     "text": [
      "(303, 13)\n",
      "(303,)\n"
     ]
    }
   ],
   "source": [
    "# extract the target variable\n",
    "X, y = df.iloc[:, :-1], df.iloc[:, -1]\n",
    "print(X.shape)\n",
    "print(y.shape)"
   ]
  },
  {
   "cell_type": "code",
   "execution_count": 12,
   "metadata": {},
   "outputs": [
    {
     "name": "stdout",
     "output_type": "stream",
     "text": [
      "train_set_x shape: (212, 13)\n",
      "train_set_y shape: (212,)\n",
      "test_set_x shape: (91, 13)\n",
      "test_set_y shape: (91,)\n"
     ]
    }
   ],
   "source": [
    "# split the data\n",
    "X_train, X_test, y_train, y_test = train_test_split(X, y, test_size=0.3, random_state=2606)\n",
    "print (\"train_set_x shape: \" + str(X_train.shape))\n",
    "print (\"train_set_y shape: \" + str(y_train.shape))\n",
    "print (\"test_set_x shape: \" + str(X_test.shape))\n",
    "print (\"test_set_y shape: \" + str(y_test.shape))"
   ]
  },
  {
   "cell_type": "markdown",
   "metadata": {},
   "source": [
    "Data needs to be normalized or standardized before applying to machine learning algorithms. Standardization scales the data and gives information on how many standard deviations the data is placed from its mean value. Effectively, the mean of the data (µ) is 0 and the standard deviation (σ) is 1."
   ]
  },
  {
   "cell_type": "code",
   "execution_count": 13,
   "metadata": {},
   "outputs": [],
   "source": [
    "# scale feature matrices\n",
    "scaler = StandardScaler()\n",
    "X_train = scaler.fit_transform(X_train)\n",
    "X_test = scaler.transform(X_test)"
   ]
  },
  {
   "cell_type": "markdown",
   "metadata": {},
   "source": [
    "## 4. Modelling and predicting with Machine Learning\n",
    "\n",
    "The main goal of the entire project is to predict heart disease occurrence with the highest accuracy. In order to achieve this, we will test several classification algorithms. This section includes all results obtained from the study and introduces the best performer according to accuracy metric. I have chosen several algorithms typical for solving supervised learning problems throughout classification methods.\n",
    "\n",
    "First of all, let's equip ourselves with a handy tool that benefits from the cohesion of SciKit Learn library and formulate a general function for training our models. The reason for displaying accuracy on both, train and test sets, is to allow us to evaluate whether the model overfits or underfits the data (so-called bias/variance tradeoff). "
   ]
  },
  {
   "cell_type": "code",
   "execution_count": 14,
   "metadata": {},
   "outputs": [],
   "source": [
    "def train_model(X_train, y_train, X_test, y_test, classifier, **kwargs):\n",
    "    \n",
    "    \"\"\"\n",
    "    Fit the chosen model and print out the score.\n",
    "    \n",
    "    \"\"\"\n",
    "    \n",
    "    # instantiate model\n",
    "    model = classifier(**kwargs)\n",
    "    \n",
    "    # train model\n",
    "    model.fit(X_train,y_train)\n",
    "    \n",
    "    # check accuracy and print out the results\n",
    "    fit_accuracy = model.score(X_train, y_train)\n",
    "    test_accuracy = model.score(X_test, y_test)\n",
    "    \n",
    "    print(f\"Train accuracy: {fit_accuracy:0.2%}\")\n",
    "    print(f\"Test accuracy: {test_accuracy:0.2%}\")\n",
    "    \n",
    "    return model"
   ]
  },
  {
   "cell_type": "markdown",
   "metadata": {},
   "source": [
    "### K-Nearest Neighbours (KNN)\n",
    "\n",
    "K-Nearest Neighbors algorithm is a non-parametric method used for classification and regression. The principle behind nearest neighbour methods is to find a predefined number of training samples closest in distance to the new point and predict the label from these."
   ]
  },
  {
   "cell_type": "code",
   "execution_count": 15,
   "metadata": {},
   "outputs": [
    {
     "name": "stdout",
     "output_type": "stream",
     "text": [
      "Train accuracy: 88.21%\n",
      "Test accuracy: 86.81%\n"
     ]
    }
   ],
   "source": [
    "# KNN\n",
    "model = train_model(X_train, y_train, X_test, y_test, KNeighborsClassifier)"
   ]
  },
  {
   "cell_type": "markdown",
   "metadata": {},
   "source": [
    "Despite its simplicity, the result is very promising. Let's see if KNN can perform even better by trying different 'n_neighbours' inputs."
   ]
  },
  {
   "cell_type": "code",
   "execution_count": 16,
   "metadata": {},
   "outputs": [
    {
     "name": "stdout",
     "output_type": "stream",
     "text": [
      "n_neigbors = 1\n",
      "Train accuracy: 100.00%\n",
      "Test accuracy: 74.73%\n",
      "n_neigbors = 2\n",
      "Train accuracy: 87.74%\n",
      "Test accuracy: 79.12%\n",
      "n_neigbors = 3\n",
      "Train accuracy: 90.57%\n",
      "Test accuracy: 83.52%\n",
      "n_neigbors = 4\n",
      "Train accuracy: 87.74%\n",
      "Test accuracy: 84.62%\n",
      "n_neigbors = 5\n",
      "Train accuracy: 88.21%\n",
      "Test accuracy: 86.81%\n",
      "n_neigbors = 6\n",
      "Train accuracy: 85.38%\n",
      "Test accuracy: 86.81%\n",
      "n_neigbors = 7\n",
      "Train accuracy: 87.26%\n",
      "Test accuracy: 86.81%\n",
      "n_neigbors = 8\n",
      "Train accuracy: 85.38%\n",
      "Test accuracy: 85.71%\n",
      "n_neigbors = 9\n",
      "Train accuracy: 86.32%\n",
      "Test accuracy: 85.71%\n"
     ]
    }
   ],
   "source": [
    "# Seek optimal 'n_neighbours' parameter\n",
    "for i in range(1,10):\n",
    "    print(\"n_neigbors = \"+str(i))\n",
    "    train_model(X_train, y_train, X_test, y_test, KNeighborsClassifier, n_neighbors=i)"
   ]
  },
  {
   "cell_type": "markdown",
   "metadata": {},
   "source": [
    "It turns out that default value of n_neighbours (5) is optimal. "
   ]
  },
  {
   "cell_type": "code",
   "execution_count": null,
   "metadata": {},
   "outputs": [],
   "source": []
  },
  {
   "cell_type": "code",
   "execution_count": null,
   "metadata": {},
   "outputs": [],
   "source": []
  },
  {
   "cell_type": "code",
   "execution_count": null,
   "metadata": {},
   "outputs": [],
   "source": []
  }
 ],
 "metadata": {
  "kernelspec": {
   "display_name": "Python 3",
   "language": "python",
   "name": "python3"
  },
  "language_info": {
   "codemirror_mode": {
    "name": "ipython",
    "version": 3
   },
   "file_extension": ".py",
   "mimetype": "text/x-python",
   "name": "python",
   "nbconvert_exporter": "python",
   "pygments_lexer": "ipython3",
   "version": "3.7.3"
  }
 },
 "nbformat": 4,
 "nbformat_minor": 2
}
